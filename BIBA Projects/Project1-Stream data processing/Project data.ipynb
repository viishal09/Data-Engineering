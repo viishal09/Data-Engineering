{
 "cells": [
  {
   "cell_type": "code",
   "execution_count": 0,
   "metadata": {
    "application/vnd.databricks.v1+cell": {
     "cellMetadata": {
      "byteLimit": 2048000,
      "rowLimit": 10000
     },
     "inputWidgets": {},
     "nuid": "6ba3477b-7141-4df7-9a8a-f22a657c719a",
     "showTitle": false,
     "title": ""
    }
   },
   "outputs": [
    {
     "output_type": "execute_result",
     "data": {
      "text/html": [
       "\n",
       "            <div>\n",
       "                <p><b>SparkSession - hive</b></p>\n",
       "                \n",
       "        <div>\n",
       "            <p><b>SparkContext</b></p>\n",
       "\n",
       "            <p><a href=\"/?o=3531695288312381#setting/sparkui/0222-071312-j6mttjnx/driver-609688382795935998\">Spark UI</a></p>\n",
       "\n",
       "            <dl>\n",
       "              <dt>Version</dt>\n",
       "                <dd><code>v3.4.1</code></dd>\n",
       "              <dt>Master</dt>\n",
       "                <dd><code>spark://10.139.64.6:7077</code></dd>\n",
       "              <dt>AppName</dt>\n",
       "                <dd><code>Databricks Shell</code></dd>\n",
       "            </dl>\n",
       "        </div>\n",
       "        \n",
       "            </div>\n",
       "        "
      ],
      "text/plain": [
       "<pyspark.sql.session.SparkSession at 0x7f0653697dc0>"
      ]
     },
     "execution_count": 1,
     "metadata": {},
     "output_type": "execute_result"
    }
   ],
   "source": [
    "spark"
   ]
  },
  {
   "cell_type": "code",
   "execution_count": 0,
   "metadata": {
    "application/vnd.databricks.v1+cell": {
     "cellMetadata": {
      "byteLimit": 2048000,
      "rowLimit": 10000
     },
     "inputWidgets": {},
     "nuid": "6e84bb27-4769-449a-87b1-55ba9eadc078",
     "showTitle": false,
     "title": ""
    }
   },
   "outputs": [],
   "source": [
    "df = spark.read.json(\"/FileStore/tables/weatherdata.json\")"
   ]
  },
  {
   "cell_type": "code",
   "execution_count": 0,
   "metadata": {
    "application/vnd.databricks.v1+cell": {
     "cellMetadata": {
      "byteLimit": 2048000,
      "rowLimit": 10000
     },
     "inputWidgets": {},
     "nuid": "261da4bb-9f7d-40de-adae-3988f95679bd",
     "showTitle": false,
     "title": ""
    }
   },
   "outputs": [
    {
     "output_type": "stream",
     "name": "stdout",
     "output_type": "stream",
     "text": [
      "+--------------------+---------------------+-----------+--------------------+\n|EventEnqueuedUtcTime|EventProcessedUtcTime|PartitionId|         temperature|\n+--------------------+---------------------+-----------+--------------------+\n|2024-02-24T05:10:...| 2024-02-24T05:11:...|          0|\\n               ...|\n|2024-02-24T05:11:...| 2024-02-24T05:11:...|          0|\\n               ...|\n|2024-02-24T05:12:...| 2024-02-24T05:12:...|          0|\\n               ...|\n|2024-02-24T05:13:...| 2024-02-24T05:13:...|          0|\\n               ...|\n|2024-02-24T05:14:...| 2024-02-24T05:14:...|          0|\\n               ...|\n|2024-02-24T05:16:...| 2024-02-24T05:16:...|          0|\\n               ...|\n|2024-02-24T05:17:...| 2024-02-24T05:17:...|          0|\\n               ...|\n|2024-02-24T05:18:...| 2024-02-24T05:18:...|          0|\\n               ...|\n|2024-02-24T05:19:...| 2024-02-24T05:19:...|          0|\\n               ...|\n|2024-02-24T05:20:...| 2024-02-24T05:20:...|          0|\\n               ...|\n|2024-02-24T05:21:...| 2024-02-24T05:21:...|          0|\\n               ...|\n|2024-02-24T05:22:...| 2024-02-24T05:22:...|          0|\\n               ...|\n|2024-02-24T05:23:...| 2024-02-24T05:23:...|          0|\\n               ...|\n|2024-02-24T05:24:...| 2024-02-24T05:24:...|          0|\\n               ...|\n|2024-02-24T05:26:...| 2024-02-24T05:26:...|          0|\\n               ...|\n|2024-02-24T05:27:...| 2024-02-24T05:27:...|          0|\\n               ...|\n|2024-02-24T05:28:...| 2024-02-24T05:28:...|          0|\\n               ...|\n|2024-02-24T05:29:...| 2024-02-24T05:29:...|          0|\\n               ...|\n|2024-02-24T05:30:...| 2024-02-24T05:30:...|          0|\\n               ...|\n|2024-02-24T05:31:...| 2024-02-24T05:31:...|          0|\\n               ...|\n+--------------------+---------------------+-----------+--------------------+\nonly showing top 20 rows\n\n"
     ]
    }
   ],
   "source": [
    "df.show()"
   ]
  },
  {
   "cell_type": "code",
   "execution_count": 0,
   "metadata": {
    "application/vnd.databricks.v1+cell": {
     "cellMetadata": {
      "byteLimit": 2048000,
      "rowLimit": 10000
     },
     "inputWidgets": {},
     "nuid": "b80c61a4-c86e-4bdb-8ab1-a81693c01b30",
     "showTitle": false,
     "title": ""
    }
   },
   "outputs": [],
   "source": [
    "df.write.option(\"header\",\"true\").csv(\"/FileStore/tables/weatherdata1_csv\")"
   ]
  },
  {
   "cell_type": "code",
   "execution_count": 0,
   "metadata": {
    "application/vnd.databricks.v1+cell": {
     "cellMetadata": {
      "byteLimit": 2048000,
      "rowLimit": 10000
     },
     "inputWidgets": {},
     "nuid": "d148a716-c5fa-41ca-bd24-87325a616134",
     "showTitle": false,
     "title": ""
    }
   },
   "outputs": [],
   "source": [
    "df1 = spark.read.csv(\"/FileStore/tables/weatherdata1_csv\")"
   ]
  },
  {
   "cell_type": "code",
   "execution_count": 0,
   "metadata": {
    "application/vnd.databricks.v1+cell": {
     "cellMetadata": {
      "byteLimit": 2048000,
      "rowLimit": 10000
     },
     "inputWidgets": {},
     "nuid": "527cba81-a393-429e-8299-5cf8992301a2",
     "showTitle": false,
     "title": ""
    }
   },
   "outputs": [
    {
     "output_type": "stream",
     "name": "stdout",
     "output_type": "stream",
     "text": [
      "+--------------------+--------------------+-----------+-----------+\n|                 _c0|                 _c1|        _c2|        _c3|\n+--------------------+--------------------+-----------+-----------+\n|EventEnqueuedUtcTime|EventProcessedUtc...|PartitionId|temperature|\n|2024-02-24T05:10:...|2024-02-24T05:11:...|          0|      27 °C|\n|2024-02-24T05:11:...|2024-02-24T05:11:...|          0|      27 °C|\n|2024-02-24T05:12:...|2024-02-24T05:12:...|          0|      27 °C|\n|2024-02-24T05:13:...|2024-02-24T05:13:...|          0|      27 °C|\n|2024-02-24T05:14:...|2024-02-24T05:14:...|          0|      29 °C|\n|2024-02-24T05:16:...|2024-02-24T05:16:...|          0|      29 °C|\n|2024-02-24T05:17:...|2024-02-24T05:17:...|          0|      29 °C|\n|2024-02-24T05:18:...|2024-02-24T05:18:...|          0|      29 °C|\n|2024-02-24T05:19:...|2024-02-24T05:19:...|          0|      29 °C|\n|2024-02-24T05:20:...|2024-02-24T05:20:...|          0|      29 °C|\n|2024-02-24T05:21:...|2024-02-24T05:21:...|          0|      29 °C|\n|2024-02-24T05:22:...|2024-02-24T05:22:...|          0|      29 °C|\n|2024-02-24T05:23:...|2024-02-24T05:23:...|          0|      29 °C|\n|2024-02-24T05:24:...|2024-02-24T05:24:...|          0|      29 °C|\n|2024-02-24T05:26:...|2024-02-24T05:26:...|          0|      29 °C|\n|2024-02-24T05:27:...|2024-02-24T05:27:...|          0|      29 °C|\n|2024-02-24T05:28:...|2024-02-24T05:28:...|          0|      29 °C|\n|2024-02-24T05:29:...|2024-02-24T05:29:...|          0|      29 °C|\n|2024-02-24T05:30:...|2024-02-24T05:30:...|          0|      29 °C|\n+--------------------+--------------------+-----------+-----------+\nonly showing top 20 rows\n\n"
     ]
    }
   ],
   "source": [
    "df1.show()"
   ]
  },
  {
   "cell_type": "code",
   "execution_count": 0,
   "metadata": {
    "application/vnd.databricks.v1+cell": {
     "cellMetadata": {
      "byteLimit": 2048000,
      "rowLimit": 10000
     },
     "inputWidgets": {},
     "nuid": "d4b9c478-e4ba-4042-a4fd-eecdb8534fd1",
     "showTitle": false,
     "title": ""
    }
   },
   "outputs": [
    {
     "output_type": "display_data",
     "data": {
      "text/html": [
       "<style scoped>\n",
       "  .table-result-container {\n",
       "    max-height: 300px;\n",
       "    overflow: auto;\n",
       "  }\n",
       "  table, th, td {\n",
       "    border: 1px solid black;\n",
       "    border-collapse: collapse;\n",
       "  }\n",
       "  th, td {\n",
       "    padding: 5px;\n",
       "  }\n",
       "  th {\n",
       "    text-align: left;\n",
       "  }\n",
       "</style><div class='table-result-container'><table class='table-result'><thead style='background-color: white'><tr><th>EventEnqueuedUtcTime</th><th>EventProcessedUtcTime</th><th>PartitionId</th><th>temperature</th></tr></thead><tbody><tr><td>2024-02-24T05:10:30.0890000Z</td><td>2024-02-24T05:11:07.9861827Z</td><td>0</td><td>\n",
       "                                        27 °C                                    </td></tr><tr><td>2024-02-24T05:11:36.7630000Z</td><td>2024-02-24T05:11:36.8364240Z</td><td>0</td><td>\n",
       "                                        27 °C                                    </td></tr><tr><td>2024-02-24T05:12:43.5470000Z</td><td>2024-02-24T05:12:43.6959222Z</td><td>0</td><td>\n",
       "                                        27 °C                                    </td></tr><tr><td>2024-02-24T05:13:50.3760000Z</td><td>2024-02-24T05:13:50.5705662Z</td><td>0</td><td>\n",
       "                                        27 °C                                    </td></tr><tr><td>2024-02-24T05:14:57.0810000Z</td><td>2024-02-24T05:14:57.3208198Z</td><td>0</td><td>\n",
       "                                        29 °C                                    </td></tr><tr><td>2024-02-24T05:16:03.8650000Z</td><td>2024-02-24T05:16:04.0719574Z</td><td>0</td><td>\n",
       "                                        29 °C                                    </td></tr><tr><td>2024-02-24T05:17:10.4600000Z</td><td>2024-02-24T05:17:10.6482828Z</td><td>0</td><td>\n",
       "                                        29 °C                                    </td></tr><tr><td>2024-02-24T05:18:17.0100000Z</td><td>2024-02-24T05:18:17.1810182Z</td><td>0</td><td>\n",
       "                                        29 °C                                    </td></tr><tr><td>2024-02-24T05:19:23.7320000Z</td><td>2024-02-24T05:19:23.9311611Z</td><td>0</td><td>\n",
       "                                        29 °C                                    </td></tr><tr><td>2024-02-24T05:20:30.3130000Z</td><td>2024-02-24T05:20:30.3855108Z</td><td>0</td><td>\n",
       "                                        29 °C                                    </td></tr><tr><td>2024-02-24T05:21:37.0340000Z</td><td>2024-02-24T05:21:37.1203819Z</td><td>0</td><td>\n",
       "                                        29 °C                                    </td></tr><tr><td>2024-02-24T05:22:43.6450000Z</td><td>2024-02-24T05:22:43.8696486Z</td><td>0</td><td>\n",
       "                                        29 °C                                    </td></tr><tr><td>2024-02-24T05:23:50.2250000Z</td><td>2024-02-24T05:23:50.4011067Z</td><td>0</td><td>\n",
       "                                        29 °C                                    </td></tr><tr><td>2024-02-24T05:24:56.9600000Z</td><td>2024-02-24T05:24:57.1358431Z</td><td>0</td><td>\n",
       "                                        29 °C                                    </td></tr><tr><td>2024-02-24T05:26:03.5720000Z</td><td>2024-02-24T05:26:03.7609435Z</td><td>0</td><td>\n",
       "                                        29 °C                                    </td></tr><tr><td>2024-02-24T05:27:10.1830000Z</td><td>2024-02-24T05:27:10.3864733Z</td><td>0</td><td>\n",
       "                                        29 °C                                    </td></tr><tr><td>2024-02-24T05:28:16.8420000Z</td><td>2024-02-24T05:28:16.9962447Z</td><td>0</td><td>\n",
       "                                        29 °C                                    </td></tr><tr><td>2024-02-24T05:29:23.4070000Z</td><td>2024-02-24T05:29:23.6212362Z</td><td>0</td><td>\n",
       "                                        29 °C                                    </td></tr><tr><td>2024-02-24T05:30:29.9730000Z</td><td>2024-02-24T05:30:30.1685113Z</td><td>0</td><td>\n",
       "                                        29 °C                                    </td></tr><tr><td>2024-02-24T05:31:36.5530000Z</td><td>2024-02-24T05:31:36.5767958Z</td><td>0</td><td>\n",
       "                                        29 °C                                    </td></tr><tr><td>2024-02-24T05:32:43.1650000Z</td><td>2024-02-24T05:32:43.3414397Z</td><td>0</td><td>\n",
       "                                        29 °C                                    </td></tr><tr><td>2024-02-24T05:33:49.7920000Z</td><td>2024-02-24T05:33:49.9661896Z</td><td>0</td><td>\n",
       "                                        29 °C                                    </td></tr><tr><td>2024-02-24T05:34:56.2950000Z</td><td>2024-02-24T05:34:56.4819587Z</td><td>0</td><td>\n",
       "                                        29 °C                                    </td></tr><tr><td>2024-02-24T05:36:02.9860000Z</td><td>2024-02-24T05:36:03.2167242Z</td><td>0</td><td>\n",
       "                                        29 °C                                    </td></tr><tr><td>2024-02-24T05:37:09.6760000Z</td><td>2024-02-24T05:37:09.8420961Z</td><td>0</td><td>\n",
       "                                        29 °C                                    </td></tr><tr><td>2024-02-24T05:38:16.3810000Z</td><td>2024-02-24T05:38:16.4837970Z</td><td>0</td><td>\n",
       "                                        29 °C                                    </td></tr><tr><td>2024-02-24T05:39:23.0400000Z</td><td>2024-02-24T05:39:23.1248062Z</td><td>0</td><td>\n",
       "                                        29 °C                                    </td></tr><tr><td>2024-02-24T05:40:29.5910000Z</td><td>2024-02-24T05:40:29.7494419Z</td><td>0</td><td>\n",
       "                                        29 °C                                    </td></tr><tr><td>2024-02-24T05:41:36.1720000Z</td><td>2024-02-24T05:41:36.3904667Z</td><td>0</td><td>\n",
       "                                        29 °C                                    </td></tr><tr><td>2024-02-24T05:42:42.8160000Z</td><td>2024-02-24T05:42:43.0001456Z</td><td>0</td><td>\n",
       "                                        29 °C                                    </td></tr><tr><td>2024-02-24T05:43:50.0370000Z</td><td>2024-02-24T05:43:50.1722712Z</td><td>0</td><td>\n",
       "                                        29 °C                                    </td></tr><tr><td>2024-02-24T05:44:56.7100000Z</td><td>2024-02-24T05:44:56.9224056Z</td><td>0</td><td>\n",
       "                                        29 °C                                    </td></tr><tr><td>2024-02-24T05:46:03.4780000Z</td><td>2024-02-24T05:46:03.6572028Z</td><td>0</td><td>\n",
       "                                        29 °C                                    </td></tr><tr><td>2024-02-24T05:47:10.0260000Z</td><td>2024-02-24T05:47:10.1729783Z</td><td>0</td><td>\n",
       "                                        29 °C                                    </td></tr><tr><td>2024-02-24T05:48:16.6090000Z</td><td>2024-02-24T05:48:16.7984750Z</td><td>0</td><td>\n",
       "                                        29 °C                                    </td></tr><tr><td>2024-02-24T05:49:23.2510000Z</td><td>2024-02-24T05:49:23.4706066Z</td><td>0</td><td>\n",
       "                                        29 °C                                    </td></tr><tr><td>2024-02-24T05:50:29.8630000Z</td><td>2024-02-24T05:50:30.0177487Z</td><td>0</td><td>\n",
       "                                        29 °C                                    </td></tr><tr><td>2024-02-24T05:51:36.3970000Z</td><td>2024-02-24T05:51:36.5649033Z</td><td>0</td><td>\n",
       "                                        29 °C                                    </td></tr><tr><td>2024-02-24T05:52:42.9790000Z</td><td>2024-02-24T05:52:43.2214323Z</td><td>0</td><td>\n",
       "                                        29 °C                                    </td></tr><tr><td>2024-02-24T05:53:49.6840000Z</td><td>2024-02-24T05:53:49.8467099Z</td><td>0</td><td>\n",
       "                                        29 °C                                    </td></tr></tbody></table></div>"
      ]
     },
     "metadata": {
      "application/vnd.databricks.v1+output": {
       "addedWidgets": {},
       "aggData": [],
       "aggError": "",
       "aggOverflow": false,
       "aggSchema": [],
       "aggSeriesLimitReached": false,
       "aggType": "",
       "arguments": {},
       "columnCustomDisplayInfos": {},
       "data": [
        [
         "2024-02-24T05:10:30.0890000Z",
         "2024-02-24T05:11:07.9861827Z",
         0,
         "\n                                        27 °C                                    "
        ],
        [
         "2024-02-24T05:11:36.7630000Z",
         "2024-02-24T05:11:36.8364240Z",
         0,
         "\n                                        27 °C                                    "
        ],
        [
         "2024-02-24T05:12:43.5470000Z",
         "2024-02-24T05:12:43.6959222Z",
         0,
         "\n                                        27 °C                                    "
        ],
        [
         "2024-02-24T05:13:50.3760000Z",
         "2024-02-24T05:13:50.5705662Z",
         0,
         "\n                                        27 °C                                    "
        ],
        [
         "2024-02-24T05:14:57.0810000Z",
         "2024-02-24T05:14:57.3208198Z",
         0,
         "\n                                        29 °C                                    "
        ],
        [
         "2024-02-24T05:16:03.8650000Z",
         "2024-02-24T05:16:04.0719574Z",
         0,
         "\n                                        29 °C                                    "
        ],
        [
         "2024-02-24T05:17:10.4600000Z",
         "2024-02-24T05:17:10.6482828Z",
         0,
         "\n                                        29 °C                                    "
        ],
        [
         "2024-02-24T05:18:17.0100000Z",
         "2024-02-24T05:18:17.1810182Z",
         0,
         "\n                                        29 °C                                    "
        ],
        [
         "2024-02-24T05:19:23.7320000Z",
         "2024-02-24T05:19:23.9311611Z",
         0,
         "\n                                        29 °C                                    "
        ],
        [
         "2024-02-24T05:20:30.3130000Z",
         "2024-02-24T05:20:30.3855108Z",
         0,
         "\n                                        29 °C                                    "
        ],
        [
         "2024-02-24T05:21:37.0340000Z",
         "2024-02-24T05:21:37.1203819Z",
         0,
         "\n                                        29 °C                                    "
        ],
        [
         "2024-02-24T05:22:43.6450000Z",
         "2024-02-24T05:22:43.8696486Z",
         0,
         "\n                                        29 °C                                    "
        ],
        [
         "2024-02-24T05:23:50.2250000Z",
         "2024-02-24T05:23:50.4011067Z",
         0,
         "\n                                        29 °C                                    "
        ],
        [
         "2024-02-24T05:24:56.9600000Z",
         "2024-02-24T05:24:57.1358431Z",
         0,
         "\n                                        29 °C                                    "
        ],
        [
         "2024-02-24T05:26:03.5720000Z",
         "2024-02-24T05:26:03.7609435Z",
         0,
         "\n                                        29 °C                                    "
        ],
        [
         "2024-02-24T05:27:10.1830000Z",
         "2024-02-24T05:27:10.3864733Z",
         0,
         "\n                                        29 °C                                    "
        ],
        [
         "2024-02-24T05:28:16.8420000Z",
         "2024-02-24T05:28:16.9962447Z",
         0,
         "\n                                        29 °C                                    "
        ],
        [
         "2024-02-24T05:29:23.4070000Z",
         "2024-02-24T05:29:23.6212362Z",
         0,
         "\n                                        29 °C                                    "
        ],
        [
         "2024-02-24T05:30:29.9730000Z",
         "2024-02-24T05:30:30.1685113Z",
         0,
         "\n                                        29 °C                                    "
        ],
        [
         "2024-02-24T05:31:36.5530000Z",
         "2024-02-24T05:31:36.5767958Z",
         0,
         "\n                                        29 °C                                    "
        ],
        [
         "2024-02-24T05:32:43.1650000Z",
         "2024-02-24T05:32:43.3414397Z",
         0,
         "\n                                        29 °C                                    "
        ],
        [
         "2024-02-24T05:33:49.7920000Z",
         "2024-02-24T05:33:49.9661896Z",
         0,
         "\n                                        29 °C                                    "
        ],
        [
         "2024-02-24T05:34:56.2950000Z",
         "2024-02-24T05:34:56.4819587Z",
         0,
         "\n                                        29 °C                                    "
        ],
        [
         "2024-02-24T05:36:02.9860000Z",
         "2024-02-24T05:36:03.2167242Z",
         0,
         "\n                                        29 °C                                    "
        ],
        [
         "2024-02-24T05:37:09.6760000Z",
         "2024-02-24T05:37:09.8420961Z",
         0,
         "\n                                        29 °C                                    "
        ],
        [
         "2024-02-24T05:38:16.3810000Z",
         "2024-02-24T05:38:16.4837970Z",
         0,
         "\n                                        29 °C                                    "
        ],
        [
         "2024-02-24T05:39:23.0400000Z",
         "2024-02-24T05:39:23.1248062Z",
         0,
         "\n                                        29 °C                                    "
        ],
        [
         "2024-02-24T05:40:29.5910000Z",
         "2024-02-24T05:40:29.7494419Z",
         0,
         "\n                                        29 °C                                    "
        ],
        [
         "2024-02-24T05:41:36.1720000Z",
         "2024-02-24T05:41:36.3904667Z",
         0,
         "\n                                        29 °C                                    "
        ],
        [
         "2024-02-24T05:42:42.8160000Z",
         "2024-02-24T05:42:43.0001456Z",
         0,
         "\n                                        29 °C                                    "
        ],
        [
         "2024-02-24T05:43:50.0370000Z",
         "2024-02-24T05:43:50.1722712Z",
         0,
         "\n                                        29 °C                                    "
        ],
        [
         "2024-02-24T05:44:56.7100000Z",
         "2024-02-24T05:44:56.9224056Z",
         0,
         "\n                                        29 °C                                    "
        ],
        [
         "2024-02-24T05:46:03.4780000Z",
         "2024-02-24T05:46:03.6572028Z",
         0,
         "\n                                        29 °C                                    "
        ],
        [
         "2024-02-24T05:47:10.0260000Z",
         "2024-02-24T05:47:10.1729783Z",
         0,
         "\n                                        29 °C                                    "
        ],
        [
         "2024-02-24T05:48:16.6090000Z",
         "2024-02-24T05:48:16.7984750Z",
         0,
         "\n                                        29 °C                                    "
        ],
        [
         "2024-02-24T05:49:23.2510000Z",
         "2024-02-24T05:49:23.4706066Z",
         0,
         "\n                                        29 °C                                    "
        ],
        [
         "2024-02-24T05:50:29.8630000Z",
         "2024-02-24T05:50:30.0177487Z",
         0,
         "\n                                        29 °C                                    "
        ],
        [
         "2024-02-24T05:51:36.3970000Z",
         "2024-02-24T05:51:36.5649033Z",
         0,
         "\n                                        29 °C                                    "
        ],
        [
         "2024-02-24T05:52:42.9790000Z",
         "2024-02-24T05:52:43.2214323Z",
         0,
         "\n                                        29 °C                                    "
        ],
        [
         "2024-02-24T05:53:49.6840000Z",
         "2024-02-24T05:53:49.8467099Z",
         0,
         "\n                                        29 °C                                    "
        ]
       ],
       "datasetInfos": [],
       "dbfsResultPath": null,
       "isJsonSchema": true,
       "metadata": {},
       "overflow": false,
       "plotOptions": {
        "customPlotOptions": {},
        "displayType": "table",
        "pivotAggregation": null,
        "pivotColumns": null,
        "xColumns": null,
        "yColumns": null
       },
       "removedWidgets": [],
       "schema": [
        {
         "metadata": "{}",
         "name": "EventEnqueuedUtcTime",
         "type": "\"string\""
        },
        {
         "metadata": "{}",
         "name": "EventProcessedUtcTime",
         "type": "\"string\""
        },
        {
         "metadata": "{}",
         "name": "PartitionId",
         "type": "\"long\""
        },
        {
         "metadata": "{}",
         "name": "temperature",
         "type": "\"string\""
        }
       ],
       "type": "table"
      }
     },
     "output_type": "display_data"
    },
    {
     "output_type": "display_data",
     "data": {
      "text/plain": [
       "Databricks visualization. Run in Databricks to view."
      ]
     },
     "metadata": {
      "application/vnd.databricks.v1.subcommand+json": {
       "baseErrorDetails": null,
       "bindings": {},
       "collapsed": false,
       "command": "%python\n__backend_agg_display_orig = display\n__backend_agg_dfs = []\ndef __backend_agg_display_new(df):\n    __backend_agg_df_modules = [\"pandas.core.frame\", \"databricks.koalas.frame\", \"pyspark.sql.dataframe\", \"pyspark.pandas.frame\", \"pyspark.sql.connect.dataframe\"]\n    if (type(df).__module__ in __backend_agg_df_modules and type(df).__name__ == 'DataFrame') or isinstance(df, list):\n        __backend_agg_dfs.append(df)\n\ndisplay = __backend_agg_display_new\n\ndef __backend_agg_user_code_fn():\n    import base64\n    exec(base64.standard_b64decode(\"ZGlzcGxheShkZik=\").decode())\n\ntry:\n    # run user code\n    __backend_agg_user_code_fn()\n\n    #reset display function\n    display = __backend_agg_display_orig\n\n    if len(__backend_agg_dfs) > 0:\n        # create a temp view\n        if type(__backend_agg_dfs[0]).__module__ == \"databricks.koalas.frame\":\n            # koalas dataframe\n            __backend_agg_dfs[0].to_spark().createOrReplaceTempView(\"DatabricksView3797d53\")\n        elif type(__backend_agg_dfs[0]).__module__ == \"pandas.core.frame\" or isinstance(__backend_agg_dfs[0], list):\n            # pandas dataframe\n            spark.createDataFrame(__backend_agg_dfs[0]).createOrReplaceTempView(\"DatabricksView3797d53\")\n        else:\n            __backend_agg_dfs[0].createOrReplaceTempView(\"DatabricksView3797d53\")\n        #run backend agg\n        display(spark.sql(\"\"\"WITH q AS (select * from DatabricksView3797d53) SELECT `temperature`,COUNT(`EventEnqueuedUtcTime`) `column_6a131f034` FROM q GROUP BY `temperature`\"\"\"))\n    else:\n        displayHTML(\"dataframe no longer exists. If you're using dataframe.display(), use display(dataframe) instead.\")\n\n\nfinally:\n    spark.sql(\"drop view if exists DatabricksView3797d53\")\n    display = __backend_agg_display_orig\n    del __backend_agg_display_new\n    del __backend_agg_display_orig\n    del __backend_agg_dfs\n    del __backend_agg_user_code_fn\n\n",
       "commandTitle": "Visualization 1",
       "commandType": "auto",
       "commandVersion": 0,
       "commentThread": [],
       "commentsVisible": false,
       "contentSha256Hex": null,
       "customPlotOptions": {
        "redashChart": [
         {
          "key": "type",
          "value": "CHART"
         },
         {
          "key": "options",
          "value": {
           "alignYAxesAtZero": true,
           "coefficient": 1,
           "columnConfigurationMap": {
            "x": {
             "column": "temperature",
             "id": "column_6a131f037"
            },
            "y": [
             {
              "column": "EventEnqueuedUtcTime",
              "id": "column_6a131f034",
              "transform": "COUNT"
             }
            ]
           },
           "dateTimeFormat": "DD/MM/YYYY HH:mm",
           "direction": {
            "type": "counterclockwise"
           },
           "error_y": {
            "type": "data",
            "visible": true
           },
           "globalSeriesType": "column",
           "isAggregationOn": true,
           "legend": {
            "traceorder": "normal"
           },
           "missingValuesAsZero": true,
           "numberFormat": "0,0.[00000]",
           "percentFormat": "0[.]00%",
           "series": {
            "error_y": {
             "type": "data",
             "visible": true
            },
            "stacking": null
           },
           "seriesOptions": {
            "column_6a131f034": {
             "type": "column",
             "yAxis": 0
            }
           },
           "showDataLabels": false,
           "sizemode": "diameter",
           "sortX": true,
           "sortY": true,
           "swappedAxes": false,
           "textFormat": "",
           "useAggregationsUi": true,
           "valuesOptions": {},
           "version": 2,
           "xAxis": {
            "labels": {
             "enabled": true
            },
            "type": "-"
           },
           "yAxis": [
            {
             "type": "-"
            },
            {
             "opposite": true,
             "type": "-"
            }
           ]
          }
         }
        ]
       },
       "datasetPreviewNameToCmdIdMap": {},
       "diffDeletes": [],
       "diffInserts": [],
       "displayType": "redashChart",
       "error": null,
       "errorDetails": null,
       "errorSummary": null,
       "errorTraceType": null,
       "finishTime": 0,
       "globalVars": {},
       "guid": "",
       "height": "auto",
       "hideCommandCode": false,
       "hideCommandResult": false,
       "iPythonMetadata": null,
       "inputWidgets": {},
       "isLockedInExamMode": false,
       "latestUser": "a user",
       "latestUserId": null,
       "listResultMetadata": null,
       "metadata": {},
       "nuid": "bd70ef31-bd62-4388-8b83-d9bb92c4667d",
       "origId": 0,
       "parentHierarchy": [],
       "pivotAggregation": null,
       "pivotColumns": null,
       "position": 7.0,
       "resultDbfsErrorMessage": null,
       "resultDbfsStatus": "INLINED_IN_TREE",
       "results": null,
       "showCommandTitle": false,
       "startTime": 0,
       "state": "input",
       "streamStates": {},
       "subcommandOptions": {
        "queryPlan": {
         "groups": [
          {
           "column": "temperature",
           "type": "column"
          }
         ],
         "selects": [
          {
           "column": "temperature",
           "type": "column"
          },
          {
           "alias": "column_6a131f034",
           "args": [
            {
             "column": "EventEnqueuedUtcTime",
             "type": "column"
            }
           ],
           "function": "COUNT",
           "type": "function"
          }
         ]
        }
       },
       "submitTime": 0,
       "subtype": "tableResultSubCmd.visualization",
       "tableResultIndex": 0,
       "useConsistentColors": false,
       "version": "CommandV1",
       "width": "auto",
       "workflows": [],
       "xColumns": null,
       "yColumns": null
      }
     },
     "output_type": "display_data"
    }
   ],
   "source": [
    "display(df)"
   ]
  },
  {
   "cell_type": "code",
   "execution_count": 0,
   "metadata": {
    "application/vnd.databricks.v1+cell": {
     "cellMetadata": {
      "byteLimit": 2048000,
      "rowLimit": 10000
     },
     "inputWidgets": {},
     "nuid": "889cf93e-1c5c-4df2-bf8f-4e9511d4bbea",
     "showTitle": false,
     "title": ""
    }
   },
   "outputs": [
    {
     "output_type": "display_data",
     "data": {
      "text/html": [
       "<style scoped>\n",
       "  .table-result-container {\n",
       "    max-height: 300px;\n",
       "    overflow: auto;\n",
       "  }\n",
       "  table, th, td {\n",
       "    border: 1px solid black;\n",
       "    border-collapse: collapse;\n",
       "  }\n",
       "  th, td {\n",
       "    padding: 5px;\n",
       "  }\n",
       "  th {\n",
       "    text-align: left;\n",
       "  }\n",
       "</style><div class='table-result-container'><table class='table-result'><thead style='background-color: white'><tr><th>_c0</th><th>_c1</th><th>_c2</th><th>_c3</th></tr></thead><tbody><tr><td>EventEnqueuedUtcTime</td><td>EventProcessedUtcTime</td><td>PartitionId</td><td>temperature</td></tr><tr><td>2024-02-24T05:10:30.0890000Z</td><td>2024-02-24T05:11:07.9861827Z</td><td>0</td><td>27 °C</td></tr><tr><td>2024-02-24T05:11:36.7630000Z</td><td>2024-02-24T05:11:36.8364240Z</td><td>0</td><td>27 °C</td></tr><tr><td>2024-02-24T05:12:43.5470000Z</td><td>2024-02-24T05:12:43.6959222Z</td><td>0</td><td>27 °C</td></tr><tr><td>2024-02-24T05:13:50.3760000Z</td><td>2024-02-24T05:13:50.5705662Z</td><td>0</td><td>27 °C</td></tr><tr><td>2024-02-24T05:14:57.0810000Z</td><td>2024-02-24T05:14:57.3208198Z</td><td>0</td><td>29 °C</td></tr><tr><td>2024-02-24T05:16:03.8650000Z</td><td>2024-02-24T05:16:04.0719574Z</td><td>0</td><td>29 °C</td></tr><tr><td>2024-02-24T05:17:10.4600000Z</td><td>2024-02-24T05:17:10.6482828Z</td><td>0</td><td>29 °C</td></tr><tr><td>2024-02-24T05:18:17.0100000Z</td><td>2024-02-24T05:18:17.1810182Z</td><td>0</td><td>29 °C</td></tr><tr><td>2024-02-24T05:19:23.7320000Z</td><td>2024-02-24T05:19:23.9311611Z</td><td>0</td><td>29 °C</td></tr><tr><td>2024-02-24T05:20:30.3130000Z</td><td>2024-02-24T05:20:30.3855108Z</td><td>0</td><td>29 °C</td></tr><tr><td>2024-02-24T05:21:37.0340000Z</td><td>2024-02-24T05:21:37.1203819Z</td><td>0</td><td>29 °C</td></tr><tr><td>2024-02-24T05:22:43.6450000Z</td><td>2024-02-24T05:22:43.8696486Z</td><td>0</td><td>29 °C</td></tr><tr><td>2024-02-24T05:23:50.2250000Z</td><td>2024-02-24T05:23:50.4011067Z</td><td>0</td><td>29 °C</td></tr><tr><td>2024-02-24T05:24:56.9600000Z</td><td>2024-02-24T05:24:57.1358431Z</td><td>0</td><td>29 °C</td></tr><tr><td>2024-02-24T05:26:03.5720000Z</td><td>2024-02-24T05:26:03.7609435Z</td><td>0</td><td>29 °C</td></tr><tr><td>2024-02-24T05:27:10.1830000Z</td><td>2024-02-24T05:27:10.3864733Z</td><td>0</td><td>29 °C</td></tr><tr><td>2024-02-24T05:28:16.8420000Z</td><td>2024-02-24T05:28:16.9962447Z</td><td>0</td><td>29 °C</td></tr><tr><td>2024-02-24T05:29:23.4070000Z</td><td>2024-02-24T05:29:23.6212362Z</td><td>0</td><td>29 °C</td></tr><tr><td>2024-02-24T05:30:29.9730000Z</td><td>2024-02-24T05:30:30.1685113Z</td><td>0</td><td>29 °C</td></tr><tr><td>2024-02-24T05:31:36.5530000Z</td><td>2024-02-24T05:31:36.5767958Z</td><td>0</td><td>29 °C</td></tr><tr><td>2024-02-24T05:32:43.1650000Z</td><td>2024-02-24T05:32:43.3414397Z</td><td>0</td><td>29 °C</td></tr><tr><td>2024-02-24T05:33:49.7920000Z</td><td>2024-02-24T05:33:49.9661896Z</td><td>0</td><td>29 °C</td></tr><tr><td>2024-02-24T05:34:56.2950000Z</td><td>2024-02-24T05:34:56.4819587Z</td><td>0</td><td>29 °C</td></tr><tr><td>2024-02-24T05:36:02.9860000Z</td><td>2024-02-24T05:36:03.2167242Z</td><td>0</td><td>29 °C</td></tr><tr><td>2024-02-24T05:37:09.6760000Z</td><td>2024-02-24T05:37:09.8420961Z</td><td>0</td><td>29 °C</td></tr><tr><td>2024-02-24T05:38:16.3810000Z</td><td>2024-02-24T05:38:16.4837970Z</td><td>0</td><td>29 °C</td></tr><tr><td>2024-02-24T05:39:23.0400000Z</td><td>2024-02-24T05:39:23.1248062Z</td><td>0</td><td>29 °C</td></tr><tr><td>2024-02-24T05:40:29.5910000Z</td><td>2024-02-24T05:40:29.7494419Z</td><td>0</td><td>29 °C</td></tr><tr><td>2024-02-24T05:41:36.1720000Z</td><td>2024-02-24T05:41:36.3904667Z</td><td>0</td><td>29 °C</td></tr><tr><td>2024-02-24T05:42:42.8160000Z</td><td>2024-02-24T05:42:43.0001456Z</td><td>0</td><td>29 °C</td></tr><tr><td>2024-02-24T05:43:50.0370000Z</td><td>2024-02-24T05:43:50.1722712Z</td><td>0</td><td>29 °C</td></tr><tr><td>2024-02-24T05:44:56.7100000Z</td><td>2024-02-24T05:44:56.9224056Z</td><td>0</td><td>29 °C</td></tr><tr><td>2024-02-24T05:46:03.4780000Z</td><td>2024-02-24T05:46:03.6572028Z</td><td>0</td><td>29 °C</td></tr><tr><td>2024-02-24T05:47:10.0260000Z</td><td>2024-02-24T05:47:10.1729783Z</td><td>0</td><td>29 °C</td></tr><tr><td>2024-02-24T05:48:16.6090000Z</td><td>2024-02-24T05:48:16.7984750Z</td><td>0</td><td>29 °C</td></tr><tr><td>2024-02-24T05:49:23.2510000Z</td><td>2024-02-24T05:49:23.4706066Z</td><td>0</td><td>29 °C</td></tr><tr><td>2024-02-24T05:50:29.8630000Z</td><td>2024-02-24T05:50:30.0177487Z</td><td>0</td><td>29 °C</td></tr><tr><td>2024-02-24T05:51:36.3970000Z</td><td>2024-02-24T05:51:36.5649033Z</td><td>0</td><td>29 °C</td></tr><tr><td>2024-02-24T05:52:42.9790000Z</td><td>2024-02-24T05:52:43.2214323Z</td><td>0</td><td>29 °C</td></tr><tr><td>2024-02-24T05:53:49.6840000Z</td><td>2024-02-24T05:53:49.8467099Z</td><td>0</td><td>29 °C</td></tr></tbody></table></div>"
      ]
     },
     "metadata": {
      "application/vnd.databricks.v1+output": {
       "addedWidgets": {},
       "aggData": [],
       "aggError": "",
       "aggOverflow": false,
       "aggSchema": [],
       "aggSeriesLimitReached": false,
       "aggType": "",
       "arguments": {},
       "columnCustomDisplayInfos": {},
       "data": [
        [
         "EventEnqueuedUtcTime",
         "EventProcessedUtcTime",
         "PartitionId",
         "temperature"
        ],
        [
         "2024-02-24T05:10:30.0890000Z",
         "2024-02-24T05:11:07.9861827Z",
         "0",
         "27 °C"
        ],
        [
         "2024-02-24T05:11:36.7630000Z",
         "2024-02-24T05:11:36.8364240Z",
         "0",
         "27 °C"
        ],
        [
         "2024-02-24T05:12:43.5470000Z",
         "2024-02-24T05:12:43.6959222Z",
         "0",
         "27 °C"
        ],
        [
         "2024-02-24T05:13:50.3760000Z",
         "2024-02-24T05:13:50.5705662Z",
         "0",
         "27 °C"
        ],
        [
         "2024-02-24T05:14:57.0810000Z",
         "2024-02-24T05:14:57.3208198Z",
         "0",
         "29 °C"
        ],
        [
         "2024-02-24T05:16:03.8650000Z",
         "2024-02-24T05:16:04.0719574Z",
         "0",
         "29 °C"
        ],
        [
         "2024-02-24T05:17:10.4600000Z",
         "2024-02-24T05:17:10.6482828Z",
         "0",
         "29 °C"
        ],
        [
         "2024-02-24T05:18:17.0100000Z",
         "2024-02-24T05:18:17.1810182Z",
         "0",
         "29 °C"
        ],
        [
         "2024-02-24T05:19:23.7320000Z",
         "2024-02-24T05:19:23.9311611Z",
         "0",
         "29 °C"
        ],
        [
         "2024-02-24T05:20:30.3130000Z",
         "2024-02-24T05:20:30.3855108Z",
         "0",
         "29 °C"
        ],
        [
         "2024-02-24T05:21:37.0340000Z",
         "2024-02-24T05:21:37.1203819Z",
         "0",
         "29 °C"
        ],
        [
         "2024-02-24T05:22:43.6450000Z",
         "2024-02-24T05:22:43.8696486Z",
         "0",
         "29 °C"
        ],
        [
         "2024-02-24T05:23:50.2250000Z",
         "2024-02-24T05:23:50.4011067Z",
         "0",
         "29 °C"
        ],
        [
         "2024-02-24T05:24:56.9600000Z",
         "2024-02-24T05:24:57.1358431Z",
         "0",
         "29 °C"
        ],
        [
         "2024-02-24T05:26:03.5720000Z",
         "2024-02-24T05:26:03.7609435Z",
         "0",
         "29 °C"
        ],
        [
         "2024-02-24T05:27:10.1830000Z",
         "2024-02-24T05:27:10.3864733Z",
         "0",
         "29 °C"
        ],
        [
         "2024-02-24T05:28:16.8420000Z",
         "2024-02-24T05:28:16.9962447Z",
         "0",
         "29 °C"
        ],
        [
         "2024-02-24T05:29:23.4070000Z",
         "2024-02-24T05:29:23.6212362Z",
         "0",
         "29 °C"
        ],
        [
         "2024-02-24T05:30:29.9730000Z",
         "2024-02-24T05:30:30.1685113Z",
         "0",
         "29 °C"
        ],
        [
         "2024-02-24T05:31:36.5530000Z",
         "2024-02-24T05:31:36.5767958Z",
         "0",
         "29 °C"
        ],
        [
         "2024-02-24T05:32:43.1650000Z",
         "2024-02-24T05:32:43.3414397Z",
         "0",
         "29 °C"
        ],
        [
         "2024-02-24T05:33:49.7920000Z",
         "2024-02-24T05:33:49.9661896Z",
         "0",
         "29 °C"
        ],
        [
         "2024-02-24T05:34:56.2950000Z",
         "2024-02-24T05:34:56.4819587Z",
         "0",
         "29 °C"
        ],
        [
         "2024-02-24T05:36:02.9860000Z",
         "2024-02-24T05:36:03.2167242Z",
         "0",
         "29 °C"
        ],
        [
         "2024-02-24T05:37:09.6760000Z",
         "2024-02-24T05:37:09.8420961Z",
         "0",
         "29 °C"
        ],
        [
         "2024-02-24T05:38:16.3810000Z",
         "2024-02-24T05:38:16.4837970Z",
         "0",
         "29 °C"
        ],
        [
         "2024-02-24T05:39:23.0400000Z",
         "2024-02-24T05:39:23.1248062Z",
         "0",
         "29 °C"
        ],
        [
         "2024-02-24T05:40:29.5910000Z",
         "2024-02-24T05:40:29.7494419Z",
         "0",
         "29 °C"
        ],
        [
         "2024-02-24T05:41:36.1720000Z",
         "2024-02-24T05:41:36.3904667Z",
         "0",
         "29 °C"
        ],
        [
         "2024-02-24T05:42:42.8160000Z",
         "2024-02-24T05:42:43.0001456Z",
         "0",
         "29 °C"
        ],
        [
         "2024-02-24T05:43:50.0370000Z",
         "2024-02-24T05:43:50.1722712Z",
         "0",
         "29 °C"
        ],
        [
         "2024-02-24T05:44:56.7100000Z",
         "2024-02-24T05:44:56.9224056Z",
         "0",
         "29 °C"
        ],
        [
         "2024-02-24T05:46:03.4780000Z",
         "2024-02-24T05:46:03.6572028Z",
         "0",
         "29 °C"
        ],
        [
         "2024-02-24T05:47:10.0260000Z",
         "2024-02-24T05:47:10.1729783Z",
         "0",
         "29 °C"
        ],
        [
         "2024-02-24T05:48:16.6090000Z",
         "2024-02-24T05:48:16.7984750Z",
         "0",
         "29 °C"
        ],
        [
         "2024-02-24T05:49:23.2510000Z",
         "2024-02-24T05:49:23.4706066Z",
         "0",
         "29 °C"
        ],
        [
         "2024-02-24T05:50:29.8630000Z",
         "2024-02-24T05:50:30.0177487Z",
         "0",
         "29 °C"
        ],
        [
         "2024-02-24T05:51:36.3970000Z",
         "2024-02-24T05:51:36.5649033Z",
         "0",
         "29 °C"
        ],
        [
         "2024-02-24T05:52:42.9790000Z",
         "2024-02-24T05:52:43.2214323Z",
         "0",
         "29 °C"
        ],
        [
         "2024-02-24T05:53:49.6840000Z",
         "2024-02-24T05:53:49.8467099Z",
         "0",
         "29 °C"
        ]
       ],
       "datasetInfos": [],
       "dbfsResultPath": null,
       "isJsonSchema": true,
       "metadata": {},
       "overflow": false,
       "plotOptions": {
        "customPlotOptions": {},
        "displayType": "table",
        "pivotAggregation": null,
        "pivotColumns": null,
        "xColumns": null,
        "yColumns": null
       },
       "removedWidgets": [],
       "schema": [
        {
         "metadata": "{}",
         "name": "_c0",
         "type": "\"string\""
        },
        {
         "metadata": "{}",
         "name": "_c1",
         "type": "\"string\""
        },
        {
         "metadata": "{}",
         "name": "_c2",
         "type": "\"string\""
        },
        {
         "metadata": "{}",
         "name": "_c3",
         "type": "\"string\""
        }
       ],
       "type": "table"
      }
     },
     "output_type": "display_data"
    },
    {
     "output_type": "display_data",
     "data": {
      "text/plain": [
       "Databricks visualization. Run in Databricks to view."
      ]
     },
     "metadata": {
      "application/vnd.databricks.v1.subcommand+json": {
       "baseErrorDetails": null,
       "bindings": {},
       "collapsed": false,
       "command": "%python\n__backend_agg_display_orig = display\n__backend_agg_dfs = []\ndef __backend_agg_display_new(df):\n    __backend_agg_df_modules = [\"pandas.core.frame\", \"databricks.koalas.frame\", \"pyspark.sql.dataframe\", \"pyspark.pandas.frame\", \"pyspark.sql.connect.dataframe\"]\n    if (type(df).__module__ in __backend_agg_df_modules and type(df).__name__ == 'DataFrame') or isinstance(df, list):\n        __backend_agg_dfs.append(df)\n\ndisplay = __backend_agg_display_new\n\ndef __backend_agg_user_code_fn():\n    import base64\n    exec(base64.standard_b64decode(\"ZGlzcGxheShkZjEp\").decode())\n\ntry:\n    # run user code\n    __backend_agg_user_code_fn()\n\n    #reset display function\n    display = __backend_agg_display_orig\n\n    if len(__backend_agg_dfs) > 0:\n        # create a temp view\n        if type(__backend_agg_dfs[0]).__module__ == \"databricks.koalas.frame\":\n            # koalas dataframe\n            __backend_agg_dfs[0].to_spark().createOrReplaceTempView(\"DatabricksView767a990\")\n        elif type(__backend_agg_dfs[0]).__module__ == \"pandas.core.frame\" or isinstance(__backend_agg_dfs[0], list):\n            # pandas dataframe\n            spark.createDataFrame(__backend_agg_dfs[0]).createOrReplaceTempView(\"DatabricksView767a990\")\n        else:\n            __backend_agg_dfs[0].createOrReplaceTempView(\"DatabricksView767a990\")\n        #run backend agg\n        display(spark.sql(\"\"\"WITH q AS (select * from DatabricksView767a990) SELECT `_c3`,COUNT(*) `column_6a131f0311` FROM q GROUP BY `_c3`\"\"\"))\n    else:\n        displayHTML(\"dataframe no longer exists. If you're using dataframe.display(), use display(dataframe) instead.\")\n\n\nfinally:\n    spark.sql(\"drop view if exists DatabricksView767a990\")\n    display = __backend_agg_display_orig\n    del __backend_agg_display_new\n    del __backend_agg_display_orig\n    del __backend_agg_dfs\n    del __backend_agg_user_code_fn\n\n",
       "commandTitle": "Visualization 1",
       "commandType": "auto",
       "commandVersion": 0,
       "commentThread": [],
       "commentsVisible": false,
       "contentSha256Hex": null,
       "customPlotOptions": {
        "redashChart": [
         {
          "key": "type",
          "value": "CHART"
         },
         {
          "key": "options",
          "value": {
           "alignYAxesAtZero": true,
           "coefficient": 1,
           "columnConfigurationMap": {
            "x": {
             "column": "_c3",
             "id": "column_6a131f0316"
            },
            "y": [
             {
              "column": "*",
              "id": "column_6a131f0311",
              "transform": "COUNT"
             }
            ]
           },
           "dateTimeFormat": "DD/MM/YYYY HH:mm",
           "direction": {
            "type": "counterclockwise"
           },
           "error_y": {
            "type": "data",
            "visible": true
           },
           "globalSeriesType": "pie",
           "isAggregationOn": true,
           "legend": {
            "traceorder": "normal"
           },
           "missingValuesAsZero": true,
           "numberFormat": "0,0.[00000]",
           "percentFormat": "0[.]00%",
           "series": {
            "error_y": {
             "type": "data",
             "visible": true
            },
            "stacking": null
           },
           "seriesOptions": {
            "column_6a131f0311": {
             "type": "pie",
             "yAxis": 0
            }
           },
           "showDataLabels": true,
           "sizemode": "diameter",
           "sortX": true,
           "sortY": true,
           "swappedAxes": false,
           "textFormat": "",
           "useAggregationsUi": true,
           "valuesOptions": {},
           "version": 2,
           "xAxis": {
            "labels": {
             "enabled": true
            },
            "type": "-"
           },
           "yAxis": [
            {
             "type": "-"
            },
            {
             "opposite": true,
             "type": "-"
            }
           ]
          }
         }
        ]
       },
       "datasetPreviewNameToCmdIdMap": {},
       "diffDeletes": [],
       "diffInserts": [],
       "displayType": "redashChart",
       "error": null,
       "errorDetails": null,
       "errorSummary": null,
       "errorTraceType": null,
       "finishTime": 0,
       "globalVars": {},
       "guid": "",
       "height": "auto",
       "hideCommandCode": false,
       "hideCommandResult": false,
       "iPythonMetadata": null,
       "inputWidgets": {},
       "isLockedInExamMode": false,
       "latestUser": "a user",
       "latestUserId": null,
       "listResultMetadata": null,
       "metadata": {},
       "nuid": "52c82255-bd6f-4a9d-8362-6a5cb84c4141",
       "origId": 0,
       "parentHierarchy": [],
       "pivotAggregation": null,
       "pivotColumns": null,
       "position": 8.0,
       "resultDbfsErrorMessage": null,
       "resultDbfsStatus": "INLINED_IN_TREE",
       "results": null,
       "showCommandTitle": false,
       "startTime": 0,
       "state": "input",
       "streamStates": {},
       "subcommandOptions": {
        "queryPlan": {
         "groups": [
          {
           "column": "_c3",
           "type": "column"
          }
         ],
         "selects": [
          {
           "column": "_c3",
           "type": "column"
          },
          {
           "alias": "column_6a131f0311",
           "args": [
            {
             "column": "*",
             "type": "column"
            }
           ],
           "function": "COUNT",
           "type": "function"
          }
         ]
        }
       },
       "submitTime": 0,
       "subtype": "tableResultSubCmd.visualization",
       "tableResultIndex": 0,
       "useConsistentColors": false,
       "version": "CommandV1",
       "width": "auto",
       "workflows": [],
       "xColumns": null,
       "yColumns": null
      }
     },
     "output_type": "display_data"
    }
   ],
   "source": [
    "display(df1)"
   ]
  },
  {
   "cell_type": "code",
   "execution_count": 0,
   "metadata": {
    "application/vnd.databricks.v1+cell": {
     "cellMetadata": {},
     "inputWidgets": {},
     "nuid": "d05984bc-8343-481d-8b4a-2d5b385efa08",
     "showTitle": false,
     "title": ""
    }
   },
   "outputs": [],
   "source": []
  }
 ],
 "metadata": {
  "application/vnd.databricks.v1+notebook": {
   "dashboards": [],
   "language": "python",
   "notebookMetadata": {
    "pythonIndentUnit": 4
   },
   "notebookName": "Project data",
   "widgets": {}
  }
 },
 "nbformat": 4,
 "nbformat_minor": 0
}
