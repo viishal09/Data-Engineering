{
 "cells": [
  {
   "cell_type": "code",
   "execution_count": 0,
   "metadata": {
    "application/vnd.databricks.v1+cell": {
     "cellMetadata": {
      "byteLimit": 2048000,
      "rowLimit": 10000
     },
     "inputWidgets": {},
     "nuid": "8b143801-e079-4302-aacc-9637941d1c79",
     "showTitle": false,
     "title": ""
    }
   },
   "outputs": [],
   "source": [
    "df=spark.read.csv('/FileStore/tables/output_file.csv',header=True,inferSchema=True)"
   ]
  },
  {
   "cell_type": "code",
   "execution_count": 0,
   "metadata": {
    "application/vnd.databricks.v1+cell": {
     "cellMetadata": {
      "byteLimit": 2048000,
      "rowLimit": 10000
     },
     "inputWidgets": {},
     "nuid": "9cc3d0a7-86e4-4f70-ae77-7f3f37e29253",
     "showTitle": false,
     "title": ""
    }
   },
   "outputs": [
    {
     "output_type": "stream",
     "name": "stdout",
     "output_type": "stream",
     "text": [
      "+-----------+--------+------+--------------------+------+----+-----+-----+----------------+-------+-----+--------+\n|PassengerId|Survived|Pclass|                Name|   Sex| Age|SibSp|Parch|          Ticket|   Fare|Cabin|Embarked|\n+-----------+--------+------+--------------------+------+----+-----+-----+----------------+-------+-----+--------+\n|          1|       0|     3|Braund, Mr. Owen ...|  male|22.0|    1|    0|       A/5 21171|   7.25| NULL|       S|\n|          2|       1|     1|Cumings, Mrs. Joh...|female|38.0|    1|    0|        PC 17599|71.2833|  C85|       C|\n|          3|       1|     3|Heikkinen, Miss. ...|female|26.0|    0|    0|STON/O2. 3101282|  7.925| NULL|       S|\n|          4|       1|     1|Futrelle, Mrs. Ja...|female|35.0|    1|    0|          113803|   53.1| C123|       S|\n|          5|       0|     3|Allen, Mr. Willia...|  male|35.0|    0|    0|          373450|   8.05| NULL|       S|\n|          6|       0|     3|    Moran, Mr. James|  male|NULL|    0|    0|          330877| 8.4583| NULL|       Q|\n|          7|       0|     1|McCarthy, Mr. Tim...|  male|54.0|    0|    0|           17463|51.8625|  E46|       S|\n|          8|       0|     3|Palsson, Master. ...|  male| 2.0|    3|    1|          349909| 21.075| NULL|       S|\n|          9|       1|     3|Johnson, Mrs. Osc...|female|27.0|    0|    2|          347742|11.1333| NULL|       S|\n|         10|       1|     2|Nasser, Mrs. Nich...|female|14.0|    1|    0|          237736|30.0708| NULL|       C|\n|         11|       1|     3|Sandstrom, Miss. ...|female| 4.0|    1|    1|         PP 9549|   16.7|   G6|       S|\n|         12|       1|     1|Bonnell, Miss. El...|female|58.0|    0|    0|          113783|  26.55| C103|       S|\n|         13|       0|     3|Saundercock, Mr. ...|  male|20.0|    0|    0|       A/5. 2151|   8.05| NULL|       S|\n|         14|       0|     3|Andersson, Mr. An...|  male|39.0|    1|    5|          347082| 31.275| NULL|       S|\n|         15|       0|     3|Vestrom, Miss. Hu...|female|14.0|    0|    0|          350406| 7.8542| NULL|       S|\n|         16|       1|     2|Hewlett, Mrs. (Ma...|female|55.0|    0|    0|          248706|   16.0| NULL|       S|\n|         17|       0|     3|Rice, Master. Eugene|  male| 2.0|    4|    1|          382652| 29.125| NULL|       Q|\n|         18|       1|     2|Williams, Mr. Cha...|  male|NULL|    0|    0|          244373|   13.0| NULL|       S|\n|         19|       0|     3|Vander Planke, Mr...|female|31.0|    1|    0|          345763|   18.0| NULL|       S|\n|         20|       1|     3|Masselmani, Mrs. ...|female|NULL|    0|    0|            2649|  7.225| NULL|       C|\n+-----------+--------+------+--------------------+------+----+-----+-----+----------------+-------+-----+--------+\nonly showing top 20 rows\n\n"
     ]
    }
   ],
   "source": [
    "df.show()\n"
   ]
  },
  {
   "cell_type": "code",
   "execution_count": 0,
   "metadata": {
    "application/vnd.databricks.v1+cell": {
     "cellMetadata": {
      "byteLimit": 2048000,
      "rowLimit": 10000
     },
     "inputWidgets": {},
     "nuid": "a1d82f98-dc42-43c5-8a93-50de90eea768",
     "showTitle": false,
     "title": ""
    }
   },
   "outputs": [],
   "source": [
    "df.createOrReplaceTempView('Titanic')"
   ]
  },
  {
   "cell_type": "code",
   "execution_count": 0,
   "metadata": {
    "application/vnd.databricks.v1+cell": {
     "cellMetadata": {
      "byteLimit": 2048000,
      "rowLimit": 10000
     },
     "inputWidgets": {},
     "nuid": "ba4c2da2-dcd3-4de9-a803-47d3a87ea0cf",
     "showTitle": false,
     "title": ""
    }
   },
   "outputs": [
    {
     "output_type": "stream",
     "name": "stdout",
     "output_type": "stream",
     "text": [
      "+--------+--------------------+------+\n|Survived|                Name|   Sex|\n+--------+--------------------+------+\n|       1|Cumings, Mrs. Joh...|female|\n|       1|Heikkinen, Miss. ...|female|\n|       1|Futrelle, Mrs. Ja...|female|\n|       1|Johnson, Mrs. Osc...|female|\n|       1|Nasser, Mrs. Nich...|female|\n|       1|Sandstrom, Miss. ...|female|\n|       1|Bonnell, Miss. El...|female|\n|       1|Hewlett, Mrs. (Ma...|female|\n|       1|Williams, Mr. Cha...|  male|\n|       1|Masselmani, Mrs. ...|female|\n|       1|Beesley, Mr. Lawr...|  male|\n|       1|\"McGowan, Miss. A...|female|\n|       1|Sloper, Mr. Willi...|  male|\n|       1|Asplund, Mrs. Car...|female|\n|       1|\"O'Dwyer, Miss. E...|female|\n|       1|Spencer, Mrs. Wil...|female|\n|       1|Glynn, Miss. Mary...|female|\n|       1|    Mamee, Mr. Hanna|  male|\n|       1|Nicola-Yarred, Mi...|female|\n|       1|Laroche, Miss. Si...|female|\n+--------+--------------------+------+\nonly showing top 20 rows\n\n"
     ]
    }
   ],
   "source": [
    "spark.sql('select Survived,Name,Sex from Titanic where Survived=1').show()"
   ]
  },
  {
   "cell_type": "markdown",
   "metadata": {
    "application/vnd.databricks.v1+cell": {
     "cellMetadata": {},
     "inputWidgets": {},
     "nuid": "ad5e14bc-3868-46ea-a7e5-dad0c3336a20",
     "showTitle": false,
     "title": ""
    }
   },
   "source": [
    "Caching Data In Memory"
   ]
  },
  {
   "cell_type": "code",
   "execution_count": 0,
   "metadata": {
    "application/vnd.databricks.v1+cell": {
     "cellMetadata": {
      "byteLimit": 2048000,
      "rowLimit": 10000
     },
     "inputWidgets": {},
     "nuid": "53a13438-0275-4e44-ac8c-d2c154e2c097",
     "showTitle": false,
     "title": ""
    }
   },
   "outputs": [
    {
     "output_type": "execute_result",
     "data": {
      "text/plain": [
       "DataFrame[PassengerId: int, Survived: int, Pclass: int, Name: string, Sex: string, Age: double, SibSp: int, Parch: int, Ticket: string, Fare: double, Cabin: string, Embarked: string]"
      ]
     },
     "execution_count": 16,
     "metadata": {},
     "output_type": "execute_result"
    }
   ],
   "source": [
    "\n",
    "# Cache the table\n",
    "df.cache()\n"
   ]
  },
  {
   "cell_type": "markdown",
   "metadata": {
    "application/vnd.databricks.v1+cell": {
     "cellMetadata": {},
     "inputWidgets": {},
     "nuid": "4a6fc89a-8fdd-4993-8e3c-6a39b7b780d4",
     "showTitle": false,
     "title": ""
    }
   },
   "source": [
    "Coalesce"
   ]
  },
  {
   "cell_type": "code",
   "execution_count": 0,
   "metadata": {
    "application/vnd.databricks.v1+cell": {
     "cellMetadata": {
      "byteLimit": 2048000,
      "implicitDf": true,
      "rowLimit": 10000
     },
     "inputWidgets": {},
     "nuid": "1c76361f-aecc-462f-8e53-c3c1adfd82e3",
     "showTitle": false,
     "title": ""
    }
   },
   "outputs": [
    {
     "output_type": "stream",
     "name": "stdout",
     "output_type": "stream",
     "text": [
      "Initial number of partitions: 1\n"
     ]
    }
   ],
   "source": [
    "# to get initial number of partitions\n",
    "print(\"Initial number of partitions:\", df.rdd.getNumPartitions())"
   ]
  },
  {
   "cell_type": "code",
   "execution_count": 0,
   "metadata": {
    "application/vnd.databricks.v1+cell": {
     "cellMetadata": {
      "byteLimit": 2048000,
      "rowLimit": 10000
     },
     "inputWidgets": {},
     "nuid": "c59c80b0-f325-45f8-9ded-cd2c64e50961",
     "showTitle": false,
     "title": ""
    }
   },
   "outputs": [],
   "source": [
    "# Use of coalesce to reduce the number of partitions\n",
    "df_coalesced = df.coalesce(2)  # 2 is thedesired number of partitions"
   ]
  },
  {
   "cell_type": "code",
   "execution_count": 0,
   "metadata": {
    "application/vnd.databricks.v1+cell": {
     "cellMetadata": {
      "byteLimit": 2048000,
      "rowLimit": 10000
     },
     "inputWidgets": {},
     "nuid": "02607f19-b0b9-4388-8470-1d37d8cc03b5",
     "showTitle": false,
     "title": ""
    }
   },
   "outputs": [
    {
     "output_type": "stream",
     "name": "stdout",
     "output_type": "stream",
     "text": [
      "Final number of partitions: 1\n"
     ]
    }
   ],
   "source": [
    "# Show the final number of partitions\n",
    "print(\"Final number of partitions:\", df_coalesced.rdd.getNumPartitions())\n",
    "\n",
    "#we are already at minimun number"
   ]
  },
  {
   "cell_type": "markdown",
   "metadata": {
    "application/vnd.databricks.v1+cell": {
     "cellMetadata": {},
     "inputWidgets": {},
     "nuid": "86d80e85-489f-43a7-b180-ada7b7392c74",
     "showTitle": false,
     "title": ""
    }
   },
   "source": [
    "Breadcast joins"
   ]
  },
  {
   "cell_type": "code",
   "execution_count": 0,
   "metadata": {
    "application/vnd.databricks.v1+cell": {
     "cellMetadata": {
      "byteLimit": 2048000,
      "rowLimit": 10000
     },
     "inputWidgets": {},
     "nuid": "e076ab26-50f5-4ae8-b427-a9628498c9d3",
     "showTitle": false,
     "title": ""
    }
   },
   "outputs": [
    {
     "output_type": "stream",
     "name": "stdout",
     "output_type": "stream",
     "text": [
      "+-----------+------------+\n|PassengerId|    survival|\n+-----------+------------+\n|          1|not survived|\n|          2|    survived|\n|          3|    survived|\n|          4|    survived|\n|          5|not survived|\n|          6|not survived|\n|          7|not survived|\n|          8|not survived|\n|          9|    survived|\n|         10|    survived|\n+-----------+------------+\n\n"
     ]
    }
   ],
   "source": [
    "data=[(1,'not survived'),(2,'survived'),(3,'survived'),(4,'survived'),(5,'not survived'),(6,'not survived'),(7,'not survived'),(8,'not survived'),(9,'survived'),(10,'survived')]\n",
    "column=['PassengerId','survival']\n",
    "df2=spark.createDataFrame(data,column)\n",
    "df2.show()"
   ]
  },
  {
   "cell_type": "code",
   "execution_count": 0,
   "metadata": {
    "application/vnd.databricks.v1+cell": {
     "cellMetadata": {
      "byteLimit": 2048000,
      "rowLimit": 10000
     },
     "inputWidgets": {},
     "nuid": "8d6116cb-186b-4463-aa43-21b9ca437704",
     "showTitle": false,
     "title": ""
    }
   },
   "outputs": [],
   "source": [
    "df2.createOrReplaceTempView('Titanic_survivals')"
   ]
  },
  {
   "cell_type": "code",
   "execution_count": 0,
   "metadata": {
    "application/vnd.databricks.v1+cell": {
     "cellMetadata": {
      "byteLimit": 2048000,
      "rowLimit": 10000
     },
     "inputWidgets": {},
     "nuid": "dc6843ff-d6f0-4d0e-a741-b12949ba7946",
     "showTitle": false,
     "title": ""
    }
   },
   "outputs": [
    {
     "output_type": "stream",
     "name": "stdout",
     "output_type": "stream",
     "text": [
      "== Physical Plan ==\nAdaptiveSparkPlan isFinalPlan=false\n+- BroadcastHashJoin [cast(PassengerId#369 as bigint)], [PassengerId#3910L], Inner, BuildLeft, false\n   :- Exchange SinglePartition, EXECUTOR_BROADCAST, [plan_id=3108]\n   :  +- ColumnarToRow\n   :     +- PhotonResultStage\n   :        +- PhotonFilter isnotnull(PassengerId#369)\n   :           +- PhotonRowToColumnar\n   :              +- Scan In-memory table Titanic [PassengerId#369, Survived#370, Pclass#371, Name#372, Sex#373, Age#374, SibSp#375, Parch#376, Ticket#377, Fare#378, Cabin#379, Embarked#380], [isnotnull(PassengerId#369)]\n   :                    +- InMemoryRelation [PassengerId#369, Survived#370, Pclass#371, Name#372, Sex#373, Age#374, SibSp#375, Parch#376, Ticket#377, Fare#378, Cabin#379, Embarked#380], StorageLevel(disk, memory, deserialized, 1 replicas)\n   :                          +- *(1) ColumnarToRow\n   :                             +- PhotonResultStage\n   :                                +- PhotonRowToColumnar\n   :                                   +- FileScan csv [PassengerId#369,Survived#370,Pclass#371,Name#372,Sex#373,Age#374,SibSp#375,Parch#376,Ticket#377,Fare#378,Cabin#379,Embarked#380] Batched: false, DataFilters: [], Format: CSV, Location: InMemoryFileIndex(1 paths)[dbfs:/FileStore/tables/output_file.csv], PartitionFilters: [], PushedFilters: [], ReadSchema: struct<PassengerId:int,Survived:int,Pclass:int,Name:string,Sex:string,Age:double,SibSp:int,Parch:...\n   +- Filter isnotnull(PassengerId#3910L)\n      +- Scan ExistingRDD[PassengerId#3910L,survival#3911]\n\n\n== Photon Explanation ==\nPhoton does not fully support the query because:\n\t\tUnsupported node: Exchange SinglePartition, EXECUTOR_BROADCAST, [plan_id=3102].\n\nReference node:\n\tExchange SinglePartition, EXECUTOR_BROADCAST, [plan_id=3108]\n\nPhoton does not fully support the query because:\n\t\tUnsupported node: Scan ExistingRDD[PassengerId#3910L,survival#3911].\n\nReference node:\n\tScan ExistingRDD[PassengerId#3910L,survival#3911]\n\n"
     ]
    }
   ],
   "source": [
    "# Show the execution plan before optimization\n",
    "spark.sql(\"SELECT * FROM Titanic t JOIN Titanic_survivals ts ON ts.PassengerId=t.PassengerId\").explain()"
   ]
  },
  {
   "cell_type": "code",
   "execution_count": 0,
   "metadata": {
    "application/vnd.databricks.v1+cell": {
     "cellMetadata": {
      "byteLimit": 2048000,
      "rowLimit": 10000
     },
     "inputWidgets": {},
     "nuid": "c4c4cfea-bc63-451b-b832-d6a730fa7a25",
     "showTitle": false,
     "title": ""
    }
   },
   "outputs": [],
   "source": [
    "spark.sql(\"SELECT /*+ BROADCAST(Titanic_survivals) */ * FROM Titanic t JOIN Titanic_survivals ts ON ts.PassengerId=t.PassengerId\").createOrReplaceTempView(\"broadcast_table\")"
   ]
  },
  {
   "cell_type": "code",
   "execution_count": 0,
   "metadata": {
    "application/vnd.databricks.v1+cell": {
     "cellMetadata": {
      "byteLimit": 2048000,
      "rowLimit": 10000
     },
     "inputWidgets": {},
     "nuid": "f6d0dd26-748d-4d37-98fb-0e7d43b97f12",
     "showTitle": false,
     "title": ""
    }
   },
   "outputs": [
    {
     "output_type": "stream",
     "name": "stdout",
     "output_type": "stream",
     "text": [
      "+-----------+--------+------+--------------------+------+----+-----+-----+----------------+-------+-----+--------+-----------+------------+\n|PassengerId|Survived|Pclass|                Name|   Sex| Age|SibSp|Parch|          Ticket|   Fare|Cabin|Embarked|PassengerId|    survival|\n+-----------+--------+------+--------------------+------+----+-----+-----+----------------+-------+-----+--------+-----------+------------+\n|          1|       0|     3|Braund, Mr. Owen ...|  male|22.0|    1|    0|       A/5 21171|   7.25| NULL|       S|          1|not survived|\n|          2|       1|     1|Cumings, Mrs. Joh...|female|38.0|    1|    0|        PC 17599|71.2833|  C85|       C|          2|    survived|\n|          3|       1|     3|Heikkinen, Miss. ...|female|26.0|    0|    0|STON/O2. 3101282|  7.925| NULL|       S|          3|    survived|\n|          4|       1|     1|Futrelle, Mrs. Ja...|female|35.0|    1|    0|          113803|   53.1| C123|       S|          4|    survived|\n|          5|       0|     3|Allen, Mr. Willia...|  male|35.0|    0|    0|          373450|   8.05| NULL|       S|          5|not survived|\n|          6|       0|     3|    Moran, Mr. James|  male|NULL|    0|    0|          330877| 8.4583| NULL|       Q|          6|not survived|\n|          7|       0|     1|McCarthy, Mr. Tim...|  male|54.0|    0|    0|           17463|51.8625|  E46|       S|          7|not survived|\n|          8|       0|     3|Palsson, Master. ...|  male| 2.0|    3|    1|          349909| 21.075| NULL|       S|          8|not survived|\n|          9|       1|     3|Johnson, Mrs. Osc...|female|27.0|    0|    2|          347742|11.1333| NULL|       S|          9|    survived|\n|         10|       1|     2|Nasser, Mrs. Nich...|female|14.0|    1|    0|          237736|30.0708| NULL|       C|         10|    survived|\n+-----------+--------+------+--------------------+------+----+-----+-----+----------------+-------+-----+--------+-----------+------------+\n\n"
     ]
    }
   ],
   "source": [
    "# Show the execution plan after optimization\n",
    "spark.sql(\"SELECT * FROM broadcast_table\").show()"
   ]
  },
  {
   "cell_type": "code",
   "execution_count": 0,
   "metadata": {
    "application/vnd.databricks.v1+cell": {
     "cellMetadata": {
      "byteLimit": 2048000,
      "rowLimit": 10000
     },
     "inputWidgets": {},
     "nuid": "4fc5e756-5181-4c26-bcff-cca6d5a69cc4",
     "showTitle": false,
     "title": ""
    }
   },
   "outputs": [
    {
     "output_type": "stream",
     "name": "stdout",
     "output_type": "stream",
     "text": [
      "== Physical Plan ==\n*(1) ColumnarToRow\n+- PhotonResultStage\n   +- PhotonFilter (isnotnull(Age#374) AND (Age#374 > 20.0))\n      +- PhotonRowToColumnar\n         +- Scan In-memory table Titanic [PassengerId#369, Survived#370, Pclass#371, Name#372, Sex#373, Age#374, SibSp#375, Parch#376, Ticket#377, Fare#378, Cabin#379, Embarked#380], [isnotnull(Age#374), (Age#374 > 20.0)]\n               +- InMemoryRelation [PassengerId#369, Survived#370, Pclass#371, Name#372, Sex#373, Age#374, SibSp#375, Parch#376, Ticket#377, Fare#378, Cabin#379, Embarked#380], StorageLevel(disk, memory, deserialized, 1 replicas)\n                     +- *(1) ColumnarToRow\n                        +- PhotonResultStage\n                           +- PhotonRowToColumnar\n                              +- FileScan csv [PassengerId#369,Survived#370,Pclass#371,Name#372,Sex#373,Age#374,SibSp#375,Parch#376,Ticket#377,Fare#378,Cabin#379,Embarked#380] Batched: false, DataFilters: [], Format: CSV, Location: InMemoryFileIndex(1 paths)[dbfs:/FileStore/tables/output_file.csv], PartitionFilters: [], PushedFilters: [], ReadSchema: struct<PassengerId:int,Survived:int,Pclass:int,Name:string,Sex:string,Age:double,SibSp:int,Parch:...\n\n\n== Photon Explanation ==\nThe query is fully supported by Photon.\n"
     ]
    }
   ],
   "source": [
    "# Use a hint to influence the Catalyst optimizer\n",
    "optimized_df = spark.sql(\"SELECT /*+ BROADCASTJOIN(Titanic) */ * FROM Titanic WHERE Age > 20\")\n",
    "\n",
    "# Show the execution plan\n",
    "optimized_df.explain()"
   ]
  },
  {
   "cell_type": "code",
   "execution_count": 0,
   "metadata": {
    "application/vnd.databricks.v1+cell": {
     "cellMetadata": {
      "byteLimit": 2048000,
      "rowLimit": 10000
     },
     "inputWidgets": {},
     "nuid": "516b5024-d985-4e7f-9fe0-18932ad38253",
     "showTitle": false,
     "title": ""
    }
   },
   "outputs": [],
   "source": [
    "# Set the autoBroadcastJoinThreshold property\n",
    "spark.conf.set(\"spark.sql.autoBroadcastJoinThreshold\", \"10m\")\n"
   ]
  },
  {
   "cell_type": "markdown",
   "metadata": {
    "application/vnd.databricks.v1+cell": {
     "cellMetadata": {},
     "inputWidgets": {},
     "nuid": "6b6881ae-6402-4734-8fdb-9e63a555c39c",
     "showTitle": false,
     "title": ""
    }
   },
   "source": [
    "Applying intermidiate Cache layer"
   ]
  },
  {
   "cell_type": "code",
   "execution_count": 0,
   "metadata": {
    "application/vnd.databricks.v1+cell": {
     "cellMetadata": {
      "byteLimit": 2048000,
      "rowLimit": 10000
     },
     "inputWidgets": {},
     "nuid": "470676b6-dd1e-4cd8-a4b8-786701ec3c80",
     "showTitle": false,
     "title": ""
    }
   },
   "outputs": [],
   "source": [
    "# Writing DataFrame to Delta Lake table\n",
    "df.write.format(\"delta\").mode(\"overwrite\").save(\"/delta//FileStore/tables\")"
   ]
  },
  {
   "cell_type": "code",
   "execution_count": 0,
   "metadata": {
    "application/vnd.databricks.v1+cell": {
     "cellMetadata": {
      "byteLimit": 2048000,
      "rowLimit": 10000
     },
     "inputWidgets": {},
     "nuid": "5f7ccccc-88d2-428b-813c-9b09f97121b1",
     "showTitle": false,
     "title": ""
    }
   },
   "outputs": [],
   "source": [
    "# Reading Delta Lake table into a DataFrame\n",
    "cached_df = spark.read.format(\"delta\").table(\"Titanic\")"
   ]
  },
  {
   "cell_type": "code",
   "execution_count": 0,
   "metadata": {
    "application/vnd.databricks.v1+cell": {
     "cellMetadata": {
      "byteLimit": 2048000,
      "rowLimit": 10000
     },
     "inputWidgets": {},
     "nuid": "fe6adef5-368d-45c9-a3d3-67e098563570",
     "showTitle": false,
     "title": ""
    }
   },
   "outputs": [],
   "source": [
    "# Performing Spark SQL queries on the cached DataFrame\n",
    "result = spark.sql(\"SELECT * FROM Titanic WHERE Age > 25\")"
   ]
  },
  {
   "cell_type": "code",
   "execution_count": 0,
   "metadata": {
    "application/vnd.databricks.v1+cell": {
     "cellMetadata": {
      "byteLimit": 2048000,
      "rowLimit": 10000
     },
     "inputWidgets": {},
     "nuid": "71446498-6aed-4e93-9806-a9b91a41773c",
     "showTitle": false,
     "title": ""
    }
   },
   "outputs": [],
   "source": [
    "# Write the result back to the Delta Lake table to update the cache\n",
    "result.write.format(\"delta\").mode(\"overwrite\").save(\"/delta/FileStore/tables\")"
   ]
  },
  {
   "cell_type": "code",
   "execution_count": 0,
   "metadata": {
    "application/vnd.databricks.v1+cell": {
     "cellMetadata": {},
     "inputWidgets": {},
     "nuid": "58b7c0f3-c99d-4175-8557-01eaf560dd10",
     "showTitle": false,
     "title": ""
    }
   },
   "outputs": [],
   "source": []
  }
 ],
 "metadata": {
  "application/vnd.databricks.v1+notebook": {
   "dashboards": [],
   "language": "python",
   "notebookMetadata": {
    "mostRecentlyExecutedCommandWithImplicitDF": {
     "commandId": -1,
     "dataframes": [
      "_sqldf"
     ]
    },
    "pythonIndentUnit": 4
   },
   "notebookName": "Sparksql",
   "widgets": {}
  }
 },
 "nbformat": 4,
 "nbformat_minor": 0
}
